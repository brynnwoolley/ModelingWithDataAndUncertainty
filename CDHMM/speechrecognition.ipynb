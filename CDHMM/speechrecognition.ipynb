{
 "cells": [
  {
   "cell_type": "markdown",
   "metadata": {},
   "source": [
    "# Speech Recognition using CDHMMs"
   ]
  },
  {
   "cell_type": "code",
   "execution_count": 1,
   "metadata": {},
   "outputs": [],
   "source": [
    "import os\n",
    "import MFCC\n",
    "import re\n",
    "import random\n",
    "\n",
    "import numpy as np\n",
    "from hmmlearn import hmm\n",
    "from scipy.io import wavfile\n",
    "from scipy.special import logsumexp\n",
    "from matplotlib import pyplot as plt\n",
    "from sklearn.decomposition import PCA\n",
    "from sklearn.model_selection import train_test_split"
   ]
  },
  {
   "cell_type": "markdown",
   "metadata": {},
   "source": [
    "## Problem 1\n",
    "\n",
    "Write a function `sample_gmmhmm` which accepts an integer $T$, and draws $T$ samples from the GMMHMM given in the lab pdf.\n",
    "\n",
    "Use your function to draw $T=900$ samples from the GMMHMM.\n",
    "Use `sklearn.decomposition.PCA` with 2 components to plot the observations in two-dimensional space. \n",
    "Color the observations by state.\n",
    "How many distinct clusters do you see?\n",
    "\n",
    "Hint: the function `np.random.choice` will be useful for drawing the hidden states and the GMM components, and `np.random.multivariate_normal` for the observation sequence. \n",
    "When plotting the samples, using the keyword argument `c` in `plt.scatter` allows you to specify the colors of the individual points."
   ]
  },
  {
   "cell_type": "code",
   "execution_count": 3,
   "metadata": {},
   "outputs": [],
   "source": [
    "def sample_gmmhmm(T):\n",
    "    \"\"\"\n",
    "    Simulate from the GMMHMM given in the problem, returning T samples.\n",
    "    \n",
    "    Returns\n",
    "    -------\n",
    "    states : ndarray of shape (n_sim,)\n",
    "        The sequence of states\n",
    "    obs : ndarray of shape (n_sim, M)\n",
    "        The generated observations (vectors of length M)\n",
    "    \"\"\"\n",
    "    N = 3\n",
    "    K = 5\n",
    "    M = 4\n",
    "    \n",
    "    ## Define the GMMHMM parameters\n",
    "    # NxN transition matrix \n",
    "    A = np.array([[.3, .3, .4], [.2, .3, .5], [.3, .2, .5]])\n",
    "    # NxK collection of component weights\n",
    "    weights = np.array([[.3, .2, .1, .2, .2], [.1, .3, .3, .2, .1], \n",
    "                        [.1, .3, .2, .1, .3]])\n",
    "    # NxKxM collection of component means\n",
    "    means = np.array([np.floor(np.random.uniform(-100, 100, size = (5, 4))) \n",
    "                            for i in range(3)])\n",
    "    # NxKx(MxM) collection of component covariance matrices       \n",
    "    covars = np.array([[np.floor(np.random.uniform(1, 20))*np.eye(4) \n",
    "                            for i in range(5)] for j in range(3)])\n",
    "    # (N,) ndarray initial state distribution \n",
    "    pi = np.array([.15, .15, .7])\n",
    "    \n",
    "    \"\"\"     my code     \"\"\"\n",
    "    # initilaize observations & states\n",
    "    state = np.argmax(np.random.multinomial(1, pi))\n",
    "    obs = np.zeros((T, means.shape[2]))\n",
    "    states = np.zeros(T)\n",
    "\n",
    "    # iterate to get each sample component & the next state\n",
    "    for i in range(T):\n",
    "        sample_component = np.argmax(np.random.multinomial(1, weights[state,:]))\n",
    "        sample = np.random.multivariate_normal(means[state, sample_component, :], covars[state, sample_component, :, :])\n",
    "        obs[i] = sample\n",
    "\n",
    "        # use the transition matrix to get the next state\n",
    "        states[i] = state\n",
    "        state = np.argmax(np.random.multinomial(1, A[state, :]))\n",
    "    \n",
    "    return states, obs\n"
   ]
  },
  {
   "cell_type": "code",
   "execution_count": 15,
   "metadata": {},
   "outputs": [
    {
     "data": {
      "image/png": "[encoded data removed]",
      "text/plain": [
       "<Figure size 640x480 with 1 Axes>"
      ]
     },
     "metadata": {},
     "output_type": "display_data"
    }
   ],
   "source": [
    "# sklearn.decomposition.PCA w/ 2 components \n",
    "pca = PCA(n_components=2)\n",
    "states, obs = sample_gmmhmm(900)\n",
    "data = pca.fit_transform(obs)\n",
    "\n",
    "# plot\n",
    "plt.scatter(data[:,0], data[:,1], c=states)\n",
    "plt.title('Problem 1')\n",
    "plt.show()"
   ]
  },
  {
   "cell_type": "markdown",
   "metadata": {},
   "source": [
    "## Problem 2\n",
    "\n",
    "In the remainder of this lab, we will create a speech recognition system for the vocabulary of the following five words/phrases: \"biology\", \"mathematics\", \"political science\", \"psychology\", and \"statistics\".\n",
    "\n",
    "The `Samples` folder contains 30 recordings for each of the words/phrases in the vocabulary.\n",
    "These audio samples are 2 seconds in duration, recorded at a rate of 44100 samples per second, with samples stored as 16-bit signed integers in WAV format. \n",
    "For each of the words, create a list holding the MFCC coefficients of the recordings of that word.\n",
    "\n",
    "The function `scipy.io.wavfile.read` can be used to load the sound files, and the function `extract` in `MFCC.py` implements the MFCC coefficient algorithm."
   ]
  },
  {
   "cell_type": "code",
   "execution_count": null,
   "metadata": {},
   "outputs": [],
   "source": [
    "# initialize \n",
    "filenames = [\"Biology\", \"Mathematics\", \"PoliticalScience\", \"Psychology\", \"Statistics\"]\n",
    "mfcc_coefs = [[] for i in range(5)]\n",
    "\n",
    "# iterate through each file\n",
    "for file in os.listdir('Samples/'):\n",
    "    for i in range(5):\n",
    "        if file.startswith(filenames[i]):\n",
    "\n",
    "            # read file from the samples folder\n",
    "            samplerate, sound_data = wavfile.read('Samples/' + file)\n",
    "            \n",
    "            # load the wavfile\n",
    "            model = MFCC.extract(data)\n",
    "            coefficients = MFCC.extract(sound_data)\n",
    "            mfcc_coefs[i].append(coefficients)"
   ]
  },
  {
   "cell_type": "markdown",
   "metadata": {},
   "source": [
    "## Problem 3\n",
    "\n",
    "For each word, randomly split the list of MFCCs into a training set of 20 samples and a test set of the remaining 10 samples.\n",
    "\n",
    "Use the training sets to train GMMHMMs on each word in the vocabulary.\n",
    "For each word in the vocabulary, train 10 GMMHMMs on the training set, using `n_components=5`.\n",
    "Keep the model with the highest log-likelihood for each word."
   ]
  },
  {
   "cell_type": "code",
   "execution_count": 19,
   "metadata": {},
   "outputs": [],
   "source": [
    "# helper function\n",
    "def initialize(n_states):\n",
    "    transmat = np.ones((n_states,n_states))/float(n_states)\n",
    "    for i in range(n_states):\n",
    "        transmat[i,:] += np.random.uniform(-1./n_states,1./n_states,n_states)\n",
    "        transmat[i,:] /= sum(transmat[i,:])\n",
    "    startprob = np.ones(n_states)/float(n_states) + np.random.uniform(-1./n_states,1./n_states,n_states)\n",
    "    startprob /= sum(startprob)\n",
    "    return startprob, transmat\n",
    "\n",
    "# initialize\n",
    "train_samples, test_samples = {}, {}\n",
    "\n",
    "# iterate\n",
    "for i in range(5):\n",
    "    train_samples[filenames[i]], test_samples[filenames[i]] = train_test_split(mfcc_coefs[i], test_size=0.33, random_state=42)\n",
    "\n",
    "# initialize pt 2\n",
    "models, log_likes, best_models = [[] for i in range(5)], [[] for j in range(5)], []\n",
    "\n",
    "# iterate pt 2\n",
    "for j, word in enumerate(filenames):\n",
    "    for i in range(10):\n",
    "        # reshape data to work with hmmlearn's fit method\n",
    "        data = train_samples[word]\n",
    "        lengths = [data[0].shape[0]] * len(data)\n",
    "        data_collected = np.vstack(data)\n",
    "\n",
    "        # get the probs and transition matrices & build the model\n",
    "        startprob, transmat = initialize(5)\n",
    "        model = hmm.GMMHMM(n_components=5, covariance_type=\"diag\",\n",
    "                                init_params=\"mc\")\n",
    "        models[j].append(model)\n",
    "\n",
    "        # probabilities and transition matrices\n",
    "        model.startprob_ = startprob\n",
    "        model.transmat_ = transmat\n",
    "\n",
    "        # fit the model\n",
    "        model.fit(data_collected)\n",
    "\n",
    "        # calc log-likelihoood \n",
    "        log_like = model.monitor_.history[-1]\n",
    "        log_likes[j].append(log_like)\n",
    "\n",
    "        if i == 9:\n",
    "            best_log_like = np.argmax(np.array(log_likes[j]))\n",
    "            best_models.append(models[j][best_log_like])"
   ]
  },
  {
   "cell_type": "markdown",
   "metadata": {},
   "source": [
    "## Problem 4\n",
    "\n",
    "Write a `predict` function for your speech recognition model.\n",
    "In this function:\n",
    " - Accept the MFCC coefficients of the speech sample to be predicted.\n",
    " - Find the log probability density of the coefficients for each word's GMMHMM.\n",
    " - Return the word with the highest probability as the speech recognition model's prediction."
   ]
  },
  {
   "cell_type": "code",
   "execution_count": 20,
   "metadata": {},
   "outputs": [],
   "source": [
    "def predict(weights):\n",
    "    # initialize\n",
    "    scores = []\n",
    "    # iterate\n",
    "    for model in best_models:\n",
    "        scores.append(model.score(weights))\n",
    "    return np.argmax(scores)"
   ]
  },
  {
   "cell_type": "markdown",
   "metadata": {},
   "source": [
    "## Problem 5\n",
    "\n",
    "For each of the five test sets, call your `predict` function on each sample, and find the proportion of each test set that your model predicts correctly.\n",
    "Display your results.\n",
    "How well does your model perform on this dataset?"
   ]
  },
  {
   "cell_type": "code",
   "execution_count": 21,
   "metadata": {},
   "outputs": [
    {
     "name": "stdout",
     "output_type": "stream",
     "text": [
      "{'Biology': 1.0, 'Mathematics': 1.0, 'PoliticalScience': 1.0, 'Psychology': 1.0, 'Statistics': 1.0}\n"
     ]
    }
   ],
   "source": [
    "# iterate through each label, predict & see how many are correct\n",
    "accuracies = {}\n",
    "for j, word in enumerate(filenames):\n",
    "    accuracy = 0\n",
    "    for test_set in test_samples[word]:\n",
    "        prediction = predict(test_set)\n",
    "        if j == prediction:\n",
    "            accuracy += 1\n",
    "    accuracies[word] = accuracy/10\n",
    "\n",
    "# print accuracies\n",
    "print(accuracies)\n"
   ]
  }
 ],
 "metadata": {
  "kernelspec": {
   "display_name": "Python 3 (ipykernel)",
   "language": "python",
   "name": "python3"
  },
  "language_info": {
   "codemirror_mode": {
    "name": "ipython",
    "version": 3
   },
   "file_extension": ".py",
   "mimetype": "text/x-python",
   "name": "python",
   "nbconvert_exporter": "python",
   "pygments_lexer": "ipython3",
   "version": "3.10.9"
  }
 },
 "nbformat": 4,
 "nbformat_minor": 4
}
